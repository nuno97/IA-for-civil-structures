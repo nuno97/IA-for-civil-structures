{
 "cells": [
  {
   "cell_type": "code",
   "execution_count": null,
   "metadata": {},
   "outputs": [],
   "source": [
    "import numpy as np\n",
    "import pandas as pd\n",
    "data = pd.read_excel('3span-beams-SK.xlsx')\n",
    "print(data.shape)\n",
    "data=data.dropna()\n",
    "print(data.shape)"
   ]
  },
  {
   "cell_type": "code",
   "execution_count": null,
   "metadata": {},
   "outputs": [],
   "source": [
    "L=[0.0,1.35000002,2.70000005,2.70000005,4.05000019,5.4000001,5.4000001,6.75,8.10000038,8.10000038,9.45000076,10.8000002,\n",
    "    10.8000002,12.1499996,13.5,13.5,14.8500004,16.2000008,16.2000008,17.5499992,\n",
    "    18.8999996,18.8999996,20.25,21.6000004,21.6000004,22.9500008,24.2999992,24.2999992,\n",
    "    25.6499996,27.0,27.0,28.25,29.5,29.5,30.75,32.0,32.0,33.25,34.5,34.5,35.75,37.0,37.0,\n",
    "    38.25,39.5,39.5,40.75,42.0,42.0,43.25,44.5,44.5,45.75,47.0,47.0,48.25,49.5,49.5,50.75,\n",
    "    52.0,52.0,53.2000008,54.4000015,54.4000015,55.5999985,56.7999992,56.7999992,58.0,59.2000008,\n",
    "    59.2000008,60.4000015,61.5999985,61.5999985,62.7999992,64.0,64.0,65.1999969,66.4000015,\n",
    "    66.4000015,67.6000061,68.8000031,68.8000031,70.0,71.1999969,71.1999969,72.3999939,73.5999985,\n",
    "    73.5999985,74.8000031,76.0]\n",
    "\n",
    "10,11\n",
    "13,14\n",
    "16,17\n",
    "19,20\n",
    "22,23\n",
    "25,26\n",
    "\n",
    "\n",
    "\n",
    "len(L)"
   ]
  },
  {
   "cell_type": "code",
   "execution_count": null,
   "metadata": {},
   "outputs": [],
   "source": [
    "shape=data.shape\n",
    "N=shape[0]\n",
    "\n",
    "inp=np.zeros((N,7,1))\n",
    "LPF = np.zeros((N,1))\n",
    "Y = np.zeros((N,31))\n",
    "\n",
    "\n",
    "for ii in range(0,N):\n",
    "    \n",
    "    P1= int(data.iloc[ii,0])\n",
    "    P2= int(data.iloc[ii,1])\n",
    "    P3= int(data.iloc[ii,2])\n",
    "    \n",
    "    L1= int(data.iloc[ii,4])\n",
    "    L2= int(data.iloc[ii,5])\n",
    "    L3= int(data.iloc[ii,6])\n",
    "    \n",
    "    inp[ii,0,0] = P1*0.01\n",
    "    inp[ii,1,0] = P2*0.01\n",
    "    inp[ii,2,0] = P3*0.01\n",
    "    \n",
    "    inp[ii,3,0] = L1\n",
    "    inp[ii,4,0] = L2\n",
    "    inp[ii,5,0] = L3\n",
    "    \n",
    "    LPF[ii,0]= data.iloc[ii][3]\n",
    "    \n",
    "    pos = data.iloc[ii,7]\n",
    "    if pos==\"meio\":\n",
    "        inp[ii,6,0] = 0\n",
    "    elif pos==\"ponta\":\n",
    "        inp[ii,6,0] = 1\n",
    "\n",
    "    \n",
    "    \n",
    "    Y[ii,:] = data.iloc[ii][[8,10,13,16,19,22,25,28,31,34,37,40,43,46,49,52,55,58,61,64,67,70,73,76,79,82,85,88,91,94,97]]\n",
    "\n",
    "\n",
    "    \n",
    "\n",
    "\n"
   ]
  },
  {
   "cell_type": "code",
   "execution_count": null,
   "metadata": {},
   "outputs": [],
   "source": [
    "for i in range(10):\n",
    "    print(inp[i,:,0])"
   ]
  },
  {
   "cell_type": "code",
   "execution_count": null,
   "metadata": {},
   "outputs": [],
   "source": [
    "import keras as krs\n",
    "from keras.models import Sequential\n",
    "from keras.layers import Dense, Conv1D, Flatten\n",
    "import matplotlib.pyplot as plt\n",
    "from keras.utils import plot_model\n",
    "\n",
    "inputA = krs.Input(shape=(7,))\n",
    "\n",
    "z = Dense(512, activation=\"relu\")(inputA)\n",
    "z = Dense(256, activation=\"relu\")(z)\n",
    "z = Dense(128, activation=\"relu\")(z)\n",
    "z = Dense(64, activation=\"relu\")(z)\n",
    "z = Dense(32, activation=\"relu\")(z)\n",
    "z = Dense(31, activation=\"linear\")(z)\n",
    "\n",
    "# our model will accept the inputs of the two branches and\n",
    "# then output a single value\n",
    "NN_SK_model = krs.Model(inputs=inputA, outputs=z)\n",
    "NN_SK_model.compile(loss='mean_squared_error', optimizer=krs.optimizers.adam(clipnorm=1)) \n",
    "\n",
    "\n",
    "NN_SK_history = NN_SK_model.fit( inp[:,:,0], Y, validation_data=(inp[:,:,0], Y),\n",
    "                        epochs=100, batch_size=32, verbose=1)  \n",
    "    \n",
    "    \n",
    "plt.figure()\n",
    "# Plot training & validation loss values\n",
    "plt.plot(NN_SK_history.history['loss'],label = 'SK')\n",
    "\n",
    "plt.title('Model loss')\n",
    "plt.ylabel('Loss')\n",
    "plt.xlabel('Epoch')\n",
    "plt.legend(loc='upper left')\n",
    "plt.show()\n"
   ]
  },
  {
   "cell_type": "code",
   "execution_count": null,
   "metadata": {},
   "outputs": [],
   "source": [
    "xticks=[0,1,2,3,4,5,6,7,8,9,10,11,12,13,14,15,16,17,18,19,20,21,22,23,24,25,26,27,28,29,30]"
   ]
  },
  {
   "cell_type": "code",
   "execution_count": null,
   "metadata": {},
   "outputs": [],
   "source": [
    "  y_pred1 = NN_SK_model.predict([inp[:,:,0]])"
   ]
  },
  {
   "cell_type": "code",
   "execution_count": null,
   "metadata": {
    "scrolled": false
   },
   "outputs": [],
   "source": [
    "import time\n",
    "import matplotlib.pyplot as plt\n",
    "from matplotlib.pyplot import figure\n",
    "for ii in [345,54354,54323,543,34534,765,7653,4326,1243,6433]:\n",
    "    figure(num=None, figsize=(10, 8), dpi=80, facecolor='w', edgecolor='k')\n",
    "    \n",
    "  \n",
    "    \n",
    "    print(inp[ii,3,0],inp[ii,4,0],inp[ii,5,0])\n",
    "    \n",
    "    maximo = max([max(y_pred1[ii,:]),max(Y[ii,:])])\n",
    "    minimo = min([min(y_pred1[ii,:]),min(Y[ii,:])])\n",
    "        \n",
    "    plt.plot(Y[ii,:],label='orig')\n",
    "    plt.plot(y_pred1[ii,:],label='NN')\n",
    "    #plt.plot(Y[ii,:]-y_pred1[ii,:],label='error')\n",
    "    \n",
    "    plt.plot([0,0,0,0,0,0,0,0,0,0,0,0,0,0,0,0,0,0,0,0,0,0,0,0,0,0,0,0,0,0,0],'k-')\n",
    "    plt.plot([0,10,20,30],[0,0,0,0],'^k')\n",
    "    if inp[ii,6,0]:\n",
    "        loads=[5,15,21,22,23,24,25,26,27,28,29]\n",
    "        dots=[25,5,15]\n",
    "    else:\n",
    "        loads=[5,11,12,13,14,15,16,17,18,19,25]\n",
    "        dots=[15,5,25]\n",
    "    plt.plot(loads,[0,0,0,0,0,0,0,0,0,0,0],'ro')\n",
    "    \n",
    "    for i in range(3):\n",
    "        plt.annotate(int(inp[ii,i,0]*100*LPF[ii,0]), # this is the text\n",
    "        (dots[i],0), # this is the point to label\n",
    "        textcoords=\"offset points\", # how to position the text\n",
    "        xytext=(0,10), # distance from text to points (x,y)\n",
    "        ha='center') # horizontal alignment can be left, right or center\n",
    "    \n",
    "        \n",
    "    stepd=(maximo-minimo)/20.0\n",
    "    plt.yticks(np.arange(minimo, maximo +stepd ,step=stepd))\n",
    "    plt.xticks(xticks)\n",
    "    plt.legend()\n",
    "    plt.grid()\n",
    "    plt.show()\n",
    "    time.sleep(2) \n",
    "    plt.close()"
   ]
  },
  {
   "cell_type": "code",
   "execution_count": null,
   "metadata": {},
   "outputs": [],
   "source": []
  },
  {
   "cell_type": "code",
   "execution_count": null,
   "metadata": {},
   "outputs": [],
   "source": []
  },
  {
   "cell_type": "code",
   "execution_count": null,
   "metadata": {},
   "outputs": [],
   "source": []
  },
  {
   "cell_type": "code",
   "execution_count": null,
   "metadata": {},
   "outputs": [],
   "source": []
  },
  {
   "cell_type": "code",
   "execution_count": null,
   "metadata": {},
   "outputs": [],
   "source": []
  }
 ],
 "metadata": {
  "kernelspec": {
   "display_name": "Python 3",
   "language": "python",
   "name": "python3"
  },
  "language_info": {
   "codemirror_mode": {
    "name": "ipython",
    "version": 3
   },
   "file_extension": ".py",
   "mimetype": "text/x-python",
   "name": "python",
   "nbconvert_exporter": "python",
   "pygments_lexer": "ipython3",
   "version": "3.7.4"
  }
 },
 "nbformat": 4,
 "nbformat_minor": 2
}
