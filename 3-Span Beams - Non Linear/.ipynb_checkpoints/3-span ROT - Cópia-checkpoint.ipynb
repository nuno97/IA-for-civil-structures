{
 "cells": [
  {
   "cell_type": "code",
   "execution_count": 1,
   "metadata": {},
   "outputs": [
    {
     "name": "stdout",
     "output_type": "stream",
     "text": [
      "(64583, 69)\n",
      "(64582, 69)\n"
     ]
    }
   ],
   "source": [
    "import numpy as np\n",
    "import pandas as pd\n",
    "data = pd.read_excel('3span-beams-ROT.xlsx')\n",
    "print(data.shape)\n",
    "data=data.dropna()\n",
    "print(data.shape)"
   ]
  },
  {
   "cell_type": "code",
   "execution_count": 2,
   "metadata": {},
   "outputs": [
    {
     "data": {
      "text/plain": [
       "P1            178\n",
       "P2            356\n",
       "P3             89\n",
       "LPf       7.45075\n",
       "L1              1\n",
       "          ...    \n",
       "r56    0.00864886\n",
       "r57    0.00949313\n",
       "r58     0.0100962\n",
       "r59      0.010458\n",
       "r60     0.0105786\n",
       "Name: 1, Length: 69, dtype: object"
      ]
     },
     "execution_count": 2,
     "metadata": {},
     "output_type": "execute_result"
    }
   ],
   "source": [
    "data.iloc[1]"
   ]
  },
  {
   "cell_type": "code",
   "execution_count": null,
   "metadata": {},
   "outputs": [],
   "source": [
    "shape=data.shape\n",
    "N=shape[0]\n",
    "\n",
    "inp=np.zeros((N,31,1))\n",
    "LPF = np.zeros((N,1))\n",
    "Y = np.zeros((N,31))\n",
    "Ls = np.zeros((N,6,1))\n",
    "\n",
    "\n",
    "for ii in range(0,N):\n",
    "    \n",
    "    P1= int(data.iloc[ii,0])\n",
    "    P2= int(data.iloc[ii,1])\n",
    "    P3= int(data.iloc[ii,2])\n",
    "    \n",
    "    L1= int(data.iloc[ii,4])\n",
    "    L2= int(data.iloc[ii,5])\n",
    "    L3= int(data.iloc[ii,6])\n",
    "    \n",
    "    inp[ii,0,0] = (P1*data.iloc[ii][3]+P1*0.001)*0.01\n",
    "    inp[ii,1,0] = (P2*data.iloc[ii][3]+P2*0.001)*0.01\n",
    "    inp[ii,2,0] = (P3*data.iloc[ii][3]+P3*0.001)*0.01\n",
    "    \n",
    "    inp[ii,3,0] = L1\n",
    "    inp[ii,4,0] = L2\n",
    "    inp[ii,5,0] = L3\n",
    "    \n",
    "    LPF[ii,0]= data.iloc[ii][3]\n",
    "    \n",
    "    pos = data.iloc[ii,7]\n",
    "    if pos==\"meio\":\n",
    "        inp[ii,6,0] = 0\n",
    "    elif pos==\"ponta\":\n",
    "        inp[ii,6,0] = 1\n",
    "\n",
    "\n",
    "    \n",
    "    \n",
    "    Y[ii,:] = data.iloc[ii][[8,10,12,14,16,18,20,22,24,26,28,30,32,34,36,38,40,42,44,46,48,50,52,54,56,58,60,62,64,66,68]]\n",
    "\n",
    "\n",
    "    \n",
    "\n",
    "\n"
   ]
  },
  {
   "cell_type": "code",
   "execution_count": null,
   "metadata": {},
   "outputs": [],
   "source": [
    "for i in range(10):\n",
    "    print(inp[i,:,0])"
   ]
  },
  {
   "cell_type": "code",
   "execution_count": null,
   "metadata": {},
   "outputs": [],
   "source": [
    "import keras as krs\n",
    "from keras.models import Sequential\n",
    "from keras.layers import Dense, Conv1D, Flatten\n",
    "import matplotlib.pyplot as plt\n",
    "from keras.utils import plot_model\n",
    "\n",
    "# define two sets of inputs\n",
    "inputA = krs.Input(shape=(31,1))\n",
    "inputB = krs.Input(shape=(6,))\n",
    "\n",
    "# the first branch operates on the first input\n",
    "x = Conv1D(512, kernel_size=1, activation=\"relu\")(inputA)\n",
    "x = Conv1D(256, kernel_size=1, activation=\"relu\")(x)\n",
    "x = Conv1D(128, kernel_size=1, activation=\"relu\")(x)\n",
    "x = Conv1D(64, kernel_size=1, activation=\"relu\")(x)\n",
    "x = Conv1D(32, kernel_size=1, activation=\"relu\")(x)\n",
    "x = Flatten()(x)\n",
    "x = Dense(31, activation=\"relu\")(x)\n",
    "x = krs.Model(inputs=inputA, outputs=x)\n",
    "\n",
    "print(x.output)\n",
    "\n",
    "# the second branch opreates on the second input\n",
    "y = Dense(6, activation=\"linear\")(inputB)\n",
    "y = krs.Model(inputs=inputB, outputs=y)\n",
    "\n",
    "print(y.output)\n",
    "\n",
    "# combine the output of the two branches\n",
    "combined = krs.layers.concatenate([x.output, y.output])\n",
    "\n",
    "# apply a FC layer and then a regression prediction on the\n",
    "# combined outputs\n",
    "z = Dense(128, activation=\"relu\")(combined)\n",
    "z = Dense(64, activation=\"relu\")(z)\n",
    "z = Dense(32, activation=\"relu\")(z)\n",
    "z = Dense(31, activation=\"linear\")(z)\n",
    "\n",
    "# our model will accept the inputs of the two branches and\n",
    "# then output a single value\n",
    "model = krs.Model(inputs=[x.input, y.input], outputs=z)\n",
    "\n",
    "\n",
    "model.compile(loss='mean_squared_error', optimizer=krs.optimizers.adam(clipnorm=1))\n",
    "history1 = model.fit( [inp,Ls[:,:,0]], Y, validation_data=([inp,Ls[:,:,0]], Y), epochs=20, batch_size=32, verbose=1)  \n",
    "\n",
    " \n",
    "    \n",
    "    \n",
    "plt.figure()\n",
    "# Plot training & validation loss values\n",
    "plt.plot(history1.history['loss'],label = 'mlp')\n",
    "  \n",
    "plt.title('Model loss')\n",
    "plt.ylabel('Loss')\n",
    "plt.xlabel('Epoch')\n",
    "plt.legend(loc='upper left')\n",
    "plt.show()"
   ]
  },
  {
   "cell_type": "code",
   "execution_count": null,
   "metadata": {},
   "outputs": [],
   "source": [
    "xticks=[0,1,2,3,4,5,6,7,8,9,10,11,12,13,14,15,16,17,18,19,20,21,22,23,24,25,26,27,28,29,30]"
   ]
  },
  {
   "cell_type": "code",
   "execution_count": null,
   "metadata": {},
   "outputs": [],
   "source": [
    "  y_pred1 = model.predict([inp,Ls[:,:,0]])"
   ]
  },
  {
   "cell_type": "code",
   "execution_count": null,
   "metadata": {
    "scrolled": false
   },
   "outputs": [],
   "source": [
    "import time\n",
    "import matplotlib.pyplot as plt\n",
    "from matplotlib.pyplot import figure\n",
    "for ii in [54,5453,646,3412,12354,6432,777,434,5376,7,45,9999]:\n",
    "    figure(num=None, figsize=(10, 8), dpi=80, facecolor='w', edgecolor='k')\n",
    "    \n",
    "  \n",
    "    \n",
    "    print(inp[ii,3,0],inp[ii,4,0],inp[ii,5,0])\n",
    "    \n",
    "    maximo = max([max(y_pred1[ii,:]),max(Y[ii,:])])\n",
    "    minimo = min([min(y_pred1[ii,:]),min(Y[ii,:])])\n",
    "        \n",
    "    plt.plot(Y[ii,:],label='orig')\n",
    "    plt.plot(y_pred1[ii,:],label='NN')\n",
    "    #plt.plot(Y[ii,:]-y_pred1[ii,:],label='error')\n",
    "    \n",
    "    plt.plot([0,0,0,0,0,0,0,0,0,0,0,0,0,0,0,0,0,0,0,0,0,0,0,0,0,0,0,0,0,0,0],'k-')\n",
    "    plt.plot([0,10,20,30],[0,0,0,0],'^k')\n",
    "    if inp[ii,6,0]:\n",
    "        loads=[5,15,21,22,23,24,25,26,27,28,29]\n",
    "        dots=[25,5,15]\n",
    "    else:\n",
    "        loads=[5,11,12,13,14,15,16,17,18,19,25]\n",
    "        dots=[15,5,25]\n",
    "    plt.plot(loads,[0,0,0,0,0,0,0,0,0,0,0],'ro')\n",
    "    \n",
    "    for i in range(3):\n",
    "        plt.annotate(int(inp[ii,i,0]*100*LPF[ii,0]), # this is the text\n",
    "        (dots[i],0), # this is the point to label\n",
    "        textcoords=\"offset points\", # how to position the text\n",
    "        xytext=(0,10), # distance from text to points (x,y)\n",
    "        ha='center') # horizontal alignment can be left, right or center\n",
    "    \n",
    "        \n",
    "    stepd=(maximo-minimo)/20.0\n",
    "    plt.yticks(np.arange(minimo, maximo +stepd ,step=stepd))\n",
    "    plt.xticks(xticks)\n",
    "    plt.legend()\n",
    "    plt.grid()\n",
    "    plt.show()\n",
    "    time.sleep(2) \n",
    "    plt.close()"
   ]
  },
  {
   "cell_type": "code",
   "execution_count": null,
   "metadata": {},
   "outputs": [],
   "source": []
  },
  {
   "cell_type": "code",
   "execution_count": null,
   "metadata": {},
   "outputs": [],
   "source": []
  },
  {
   "cell_type": "code",
   "execution_count": null,
   "metadata": {},
   "outputs": [],
   "source": []
  },
  {
   "cell_type": "code",
   "execution_count": null,
   "metadata": {},
   "outputs": [],
   "source": []
  },
  {
   "cell_type": "code",
   "execution_count": null,
   "metadata": {},
   "outputs": [],
   "source": []
  }
 ],
 "metadata": {
  "kernelspec": {
   "display_name": "Python 3",
   "language": "python",
   "name": "python3"
  },
  "language_info": {
   "codemirror_mode": {
    "name": "ipython",
    "version": 3
   },
   "file_extension": ".py",
   "mimetype": "text/x-python",
   "name": "python",
   "nbconvert_exporter": "python",
   "pygments_lexer": "ipython3",
   "version": "3.7.4"
  }
 },
 "nbformat": 4,
 "nbformat_minor": 2
}
