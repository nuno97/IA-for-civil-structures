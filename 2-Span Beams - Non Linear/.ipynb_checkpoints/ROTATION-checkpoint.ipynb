{
 "cells": [
  {
   "cell_type": "code",
   "execution_count": 2,
   "metadata": {},
   "outputs": [
    {
     "name": "stdout",
     "output_type": "stream",
     "text": [
      "(71114, 32)\n",
      "(71110, 32)\n"
     ]
    },
    {
     "name": "stderr",
     "output_type": "stream",
     "text": [
      "c:\\users\\nuno\\appdata\\local\\programs\\python\\python37\\lib\\site-packages\\IPython\\core\\interactiveshell.py:3058: DtypeWarning: Columns (6) have mixed types. Specify dtype option on import or set low_memory=False.\n",
      "  interactivity=interactivity, compiler=compiler, result=result)\n"
     ]
    }
   ],
   "source": [
    "import numpy as np\n",
    "import pandas as pd\n",
    "\n",
    "data = pd.read_csv('ROTATION.csv',header=None)\n",
    "print(data.shape)\n",
    "data=data.dropna()\n",
    "print(data.shape)"
   ]
  },
  {
   "cell_type": "code",
   "execution_count": 3,
   "metadata": {},
   "outputs": [
    {
     "name": "stderr",
     "output_type": "stream",
     "text": [
      "c:\\users\\nuno\\appdata\\local\\programs\\python\\python37\\lib\\site-packages\\pandas\\core\\series.py:1143: FutureWarning: \n",
      "Passing list-likes to .loc or [] with any missing label will raise\n",
      "KeyError in the future, you can use .reindex() as an alternative.\n",
      "\n",
      "See the documentation here:\n",
      "https://pandas.pydata.org/pandas-docs/stable/user_guide/indexing.html#deprecate-loc-reindex-listlike\n",
      "  return self.loc[key]\n"
     ]
    }
   ],
   "source": [
    "shape=data.shape\n",
    "N=shape[0]-1\n",
    "\n",
    "X = np.zeros((N,13,1))\n",
    "Ls = np.zeros((N,3,1))\n",
    "\n",
    "\n",
    "Y = np.zeros((N,13))\n",
    "LPF = np.zeros((N,1))\n",
    "\n",
    "for ii in range(0,N):\n",
    "    q1 = int(data.iloc[ii,0])\n",
    "    q2 = int(data.iloc[ii,1])\n",
    "    q3 = int(data.iloc[ii,2])\n",
    "    \n",
    "    l1 = data.iloc[ii,3]\n",
    "    l2 = data.iloc[ii,4]\n",
    "    l3 = data.iloc[ii,5]\n",
    "\n",
    "    \n",
    "    \n",
    "    \n",
    "    X[ii,q1,0] = 1\n",
    "    X[ii,q2,0] = 1\n",
    "    X[ii,q3,0] = 1\n",
    "    \n",
    "    Ls[ii,0,0]=l1*0.01\n",
    "    Ls[ii,1,0]=l2*0.01\n",
    "    Ls[ii,2,0]=l3*0.01\n",
    "    \n",
    "    Y[ii,:] = data.iloc[ii][[8,10,12,14,16,18,20,22,24,26,28,30,32]]\n",
    "    LPF[ii,0]= data.iloc[ii][6]\n",
    "\n",
    "    \n",
    "xticks=[0,1,2,3,4,5,6,7,8,9,10,11,12]\n",
    "\n",
    "\n",
    "\n",
    "    "
   ]
  },
  {
   "cell_type": "code",
   "execution_count": 4,
   "metadata": {},
   "outputs": [
    {
     "data": {
      "text/plain": [
       "0     False\n",
       "1     False\n",
       "2     False\n",
       "3     False\n",
       "4     False\n",
       "5     False\n",
       "6     False\n",
       "7     False\n",
       "8     False\n",
       "9     False\n",
       "10    False\n",
       "11    False\n",
       "12    False\n",
       "13    False\n",
       "14    False\n",
       "15    False\n",
       "16    False\n",
       "17    False\n",
       "18    False\n",
       "19    False\n",
       "20    False\n",
       "21    False\n",
       "22    False\n",
       "23    False\n",
       "24    False\n",
       "25    False\n",
       "26    False\n",
       "27    False\n",
       "28    False\n",
       "29    False\n",
       "30    False\n",
       "31    False\n",
       "dtype: bool"
      ]
     },
     "execution_count": 4,
     "metadata": {},
     "output_type": "execute_result"
    }
   ],
   "source": [
    "#print(X[0])\n",
    "#print(Ls[0])\n",
    "data.isnull().any()\n"
   ]
  },
  {
   "cell_type": "code",
   "execution_count": null,
   "metadata": {},
   "outputs": [
    {
     "name": "stderr",
     "output_type": "stream",
     "text": [
      "Using TensorFlow backend.\n",
      "c:\\users\\nuno\\appdata\\local\\programs\\python\\python37\\lib\\site-packages\\tensorflow\\python\\framework\\dtypes.py:516: FutureWarning: Passing (type, 1) or '1type' as a synonym of type is deprecated; in a future version of numpy, it will be understood as (type, (1,)) / '(1,)type'.\n",
      "  _np_qint8 = np.dtype([(\"qint8\", np.int8, 1)])\n",
      "c:\\users\\nuno\\appdata\\local\\programs\\python\\python37\\lib\\site-packages\\tensorflow\\python\\framework\\dtypes.py:517: FutureWarning: Passing (type, 1) or '1type' as a synonym of type is deprecated; in a future version of numpy, it will be understood as (type, (1,)) / '(1,)type'.\n",
      "  _np_quint8 = np.dtype([(\"quint8\", np.uint8, 1)])\n",
      "c:\\users\\nuno\\appdata\\local\\programs\\python\\python37\\lib\\site-packages\\tensorflow\\python\\framework\\dtypes.py:518: FutureWarning: Passing (type, 1) or '1type' as a synonym of type is deprecated; in a future version of numpy, it will be understood as (type, (1,)) / '(1,)type'.\n",
      "  _np_qint16 = np.dtype([(\"qint16\", np.int16, 1)])\n",
      "c:\\users\\nuno\\appdata\\local\\programs\\python\\python37\\lib\\site-packages\\tensorflow\\python\\framework\\dtypes.py:519: FutureWarning: Passing (type, 1) or '1type' as a synonym of type is deprecated; in a future version of numpy, it will be understood as (type, (1,)) / '(1,)type'.\n",
      "  _np_quint16 = np.dtype([(\"quint16\", np.uint16, 1)])\n",
      "c:\\users\\nuno\\appdata\\local\\programs\\python\\python37\\lib\\site-packages\\tensorflow\\python\\framework\\dtypes.py:520: FutureWarning: Passing (type, 1) or '1type' as a synonym of type is deprecated; in a future version of numpy, it will be understood as (type, (1,)) / '(1,)type'.\n",
      "  _np_qint32 = np.dtype([(\"qint32\", np.int32, 1)])\n",
      "c:\\users\\nuno\\appdata\\local\\programs\\python\\python37\\lib\\site-packages\\tensorflow\\python\\framework\\dtypes.py:525: FutureWarning: Passing (type, 1) or '1type' as a synonym of type is deprecated; in a future version of numpy, it will be understood as (type, (1,)) / '(1,)type'.\n",
      "  np_resource = np.dtype([(\"resource\", np.ubyte, 1)])\n",
      "c:\\users\\nuno\\appdata\\local\\programs\\python\\python37\\lib\\site-packages\\tensorboard\\compat\\tensorflow_stub\\dtypes.py:541: FutureWarning: Passing (type, 1) or '1type' as a synonym of type is deprecated; in a future version of numpy, it will be understood as (type, (1,)) / '(1,)type'.\n",
      "  _np_qint8 = np.dtype([(\"qint8\", np.int8, 1)])\n",
      "c:\\users\\nuno\\appdata\\local\\programs\\python\\python37\\lib\\site-packages\\tensorboard\\compat\\tensorflow_stub\\dtypes.py:542: FutureWarning: Passing (type, 1) or '1type' as a synonym of type is deprecated; in a future version of numpy, it will be understood as (type, (1,)) / '(1,)type'.\n",
      "  _np_quint8 = np.dtype([(\"quint8\", np.uint8, 1)])\n",
      "c:\\users\\nuno\\appdata\\local\\programs\\python\\python37\\lib\\site-packages\\tensorboard\\compat\\tensorflow_stub\\dtypes.py:543: FutureWarning: Passing (type, 1) or '1type' as a synonym of type is deprecated; in a future version of numpy, it will be understood as (type, (1,)) / '(1,)type'.\n",
      "  _np_qint16 = np.dtype([(\"qint16\", np.int16, 1)])\n",
      "c:\\users\\nuno\\appdata\\local\\programs\\python\\python37\\lib\\site-packages\\tensorboard\\compat\\tensorflow_stub\\dtypes.py:544: FutureWarning: Passing (type, 1) or '1type' as a synonym of type is deprecated; in a future version of numpy, it will be understood as (type, (1,)) / '(1,)type'.\n",
      "  _np_quint16 = np.dtype([(\"quint16\", np.uint16, 1)])\n",
      "c:\\users\\nuno\\appdata\\local\\programs\\python\\python37\\lib\\site-packages\\tensorboard\\compat\\tensorflow_stub\\dtypes.py:545: FutureWarning: Passing (type, 1) or '1type' as a synonym of type is deprecated; in a future version of numpy, it will be understood as (type, (1,)) / '(1,)type'.\n",
      "  _np_qint32 = np.dtype([(\"qint32\", np.int32, 1)])\n",
      "c:\\users\\nuno\\appdata\\local\\programs\\python\\python37\\lib\\site-packages\\tensorboard\\compat\\tensorflow_stub\\dtypes.py:550: FutureWarning: Passing (type, 1) or '1type' as a synonym of type is deprecated; in a future version of numpy, it will be understood as (type, (1,)) / '(1,)type'.\n",
      "  np_resource = np.dtype([(\"resource\", np.ubyte, 1)])\n"
     ]
    },
    {
     "name": "stdout",
     "output_type": "stream",
     "text": [
      "WARNING:tensorflow:From c:\\users\\nuno\\appdata\\local\\programs\\python\\python37\\lib\\site-packages\\keras\\backend\\tensorflow_backend.py:66: The name tf.get_default_graph is deprecated. Please use tf.compat.v1.get_default_graph instead.\n",
      "\n",
      "WARNING:tensorflow:From c:\\users\\nuno\\appdata\\local\\programs\\python\\python37\\lib\\site-packages\\keras\\backend\\tensorflow_backend.py:541: The name tf.placeholder is deprecated. Please use tf.compat.v1.placeholder instead.\n",
      "\n",
      "WARNING:tensorflow:From c:\\users\\nuno\\appdata\\local\\programs\\python\\python37\\lib\\site-packages\\keras\\backend\\tensorflow_backend.py:4432: The name tf.random_uniform is deprecated. Please use tf.random.uniform instead.\n",
      "\n",
      "Tensor(\"dense_1/Relu:0\", shape=(?, 13), dtype=float32)\n",
      "Tensor(\"dense_2/BiasAdd:0\", shape=(?, 3), dtype=float32)\n",
      "WARNING:tensorflow:From c:\\users\\nuno\\appdata\\local\\programs\\python\\python37\\lib\\site-packages\\keras\\optimizers.py:793: The name tf.train.Optimizer is deprecated. Please use tf.compat.v1.train.Optimizer instead.\n",
      "\n",
      "WARNING:tensorflow:From c:\\users\\nuno\\appdata\\local\\programs\\python\\python37\\lib\\site-packages\\keras\\backend\\tensorflow_backend.py:1033: The name tf.assign_add is deprecated. Please use tf.compat.v1.assign_add instead.\n",
      "\n",
      "WARNING:tensorflow:From c:\\users\\nuno\\appdata\\local\\programs\\python\\python37\\lib\\site-packages\\keras\\backend\\tensorflow_backend.py:1020: The name tf.assign is deprecated. Please use tf.compat.v1.assign instead.\n",
      "\n",
      "Train on 71109 samples, validate on 71109 samples\n",
      "Epoch 1/30\n",
      "70816/71109 [============================>.] - ETA: 0s - loss: nan"
     ]
    }
   ],
   "source": [
    "import keras as krs\n",
    "from keras.models import Sequential\n",
    "from keras.layers import Dense, Conv1D, Flatten\n",
    "import matplotlib.pyplot as plt\n",
    "from keras.utils import plot_model\n",
    "\n",
    "# define two sets of inputs\n",
    "inputA = krs.Input(shape=(13,1))\n",
    "inputB = krs.Input(shape=(3,))\n",
    "\n",
    "# the first branch operates on the first input\n",
    "x = Conv1D(128, kernel_size=1, activation=\"relu\")(inputA)\n",
    "x = Conv1D(64, kernel_size=1, activation=\"relu\")(x)\n",
    "x = Conv1D(32, kernel_size=1, activation=\"relu\")(x)\n",
    "x = Conv1D(24, kernel_size=1, activation=\"relu\")(x)\n",
    "x = Conv1D(13, kernel_size=1, activation=\"relu\")(x)\n",
    "x = Flatten()(x)\n",
    "x = Dense(13, activation=\"relu\")(x)\n",
    "x = krs.Model(inputs=inputA, outputs=x)\n",
    "\n",
    "print(x.output)\n",
    "\n",
    "# the second branch opreates on the second input\n",
    "y = Dense(3, activation=\"linear\")(inputB)\n",
    "y = krs.Model(inputs=inputB, outputs=y)\n",
    "\n",
    "print(y.output)\n",
    "\n",
    "# combine the output of the two branches\n",
    "combined = krs.layers.concatenate([x.output, y.output])\n",
    "\n",
    "# apply a FC layer and then a regression prediction on the\n",
    "# combined outputs\n",
    "z = Dense(64, activation=\"relu\")(combined)\n",
    "z = Dense(32, activation=\"relu\")(z)\n",
    "z = Dense(24, activation=\"relu\")(z)\n",
    "z = Dense(13, activation=\"linear\")(z)\n",
    "\n",
    "# our model will accept the inputs of the two branches and\n",
    "# then output a single value\n",
    "model = krs.Model(inputs=[x.input, y.input], outputs=z)\n",
    "\n",
    "\n",
    "model.compile(loss='mean_squared_error', optimizer=krs.optimizers.adam(clipnorm=1))\n",
    "history1 = model.fit( [X,Ls[:,:,0]], Y, validation_data=([X,Ls[:,:,0]], Y), epochs=30, batch_size=32, verbose=1)  \n",
    "\n",
    " \n",
    "    \n",
    "    \n",
    "plt.figure()\n",
    "# Plot training & validation loss values\n",
    "plt.plot(history1.history['loss'],label = 'mlp')\n",
    "  \n",
    "plt.title('Model loss')\n",
    "plt.ylabel('Loss')\n",
    "plt.xlabel('Epoch')\n",
    "plt.legend(loc='upper left')\n",
    "plt.show()"
   ]
  },
  {
   "cell_type": "code",
   "execution_count": null,
   "metadata": {},
   "outputs": [],
   "source": [
    "y_pred1 = model.predict([X,Ls[:,:,0]])\n",
    "import time\n",
    "from matplotlib.pyplot import figure\n",
    "\n",
    "\n",
    "for ii in range(20):\n",
    "    figure(num=None, figsize=(8, 6), dpi=80, facecolor='w', edgecolor='k')\n",
    "    print(X[ii,:,0],Ls[ii,:,0]*100)\n",
    "    \n",
    "    maximo = max([max(y_pred1[ii,:]),max(Y[ii,:])])\n",
    "    minimo = min([min(y_pred1[ii,:]),min(Y[ii,:])])\n",
    "        \n",
    "    plt.plot(Y[ii,:],label='orig')\n",
    "    plt.plot(y_pred1[ii,:],label='NN')\n",
    "    #plt.plot(Y[ii,:]-y_pred1[ii,:],label='error')\n",
    "    \n",
    "    plt.plot([0,0,0,0,0,0,0,0,0,0,0,0,0],'k-')\n",
    "    plt.plot([0,6,12],[0,0,0],'^k')\n",
    "    loads=np.where(X[ii,:,0]==1)[0]\n",
    "    plt.plot(loads,[0,0,0],'ro')\n",
    "    \n",
    "    for i in range(0,3):\n",
    "        plt.annotate(int(Ls[ii,i,0]*LPF[ii,0]*100), # this is the text\n",
    "        (loads[i],0), # this is the point to label\n",
    "        textcoords=\"offset points\", # how to position the text\n",
    "        xytext=(0,10), # distance from text to points (x,y)\n",
    "        ha='center') # horizontal alignment can be left, right or center\n",
    "\n",
    "        \n",
    "    stepd=(maximo-minimo)/12.0\n",
    "    plt.yticks(np.arange(minimo, maximo +stepd ,step=stepd))\n",
    "    plt.xticks(xticks)\n",
    "    plt.legend()\n",
    "    plt.grid()\n",
    "    plt.show()\n",
    "    time.sleep(2) \n",
    "    plt.close()"
   ]
  },
  {
   "cell_type": "code",
   "execution_count": null,
   "metadata": {},
   "outputs": [],
   "source": [
    "\n",
    "np.set_printoptions(precision=3)\n",
    "\n",
    "\n",
    "\n",
    "err = np.sum(np.abs(y_pred1-Y)/N,axis=0)\n",
    "print(\"errors1\\n \", err)\n",
    "\n",
    "\n",
    "\n"
   ]
  },
  {
   "cell_type": "code",
   "execution_count": null,
   "metadata": {},
   "outputs": [],
   "source": [
    "Pos = np.zeros((13,13,1))\n",
    "Pesos_05 = np.zeros((13,3,1))\n",
    "Pesos_1 = np.zeros((13,3,1))\n",
    "Pesos_2 = np.zeros((13,3,1))\n",
    "\n",
    "for i in range(13):\n",
    "    Pos[i,2,0] = 1\n",
    "    Pos[i,4,0] = 1\n",
    "    Pos[i,9,0] = 1\n",
    "    Pesos_05[i,0,0] = 30*(i+1)*0.01\n",
    "    Pesos_05[i,1,0] = 30*(i+1)/2*0.01\n",
    "    Pesos_05[i,2,0] = 30*(i+1)/2*0.01\n",
    "    Pesos_1[i,0,0] = 30*(i+1)*0.01\n",
    "    Pesos_1[i,1,0] = 30*(i+1)*0.01\n",
    "    Pesos_1[i,2,0] = 30*(i+1)*0.01\n",
    "    Pesos_2[i,0,0] = 30*(i+1)*0.01\n",
    "    Pesos_2[i,1,0] = 30*(i+1)*2*0.01\n",
    "    Pesos_2[i,2,0] = 30*(i+1)*2*0.01\n",
    "    \n",
    "    \n",
    "Inc_SK_05 = model.predict([Pos,Pesos_05[:,:,0]])\n",
    "Inc_SK_1 = model.predict([Pos,Pesos_1[:,:,0]])\n",
    "Inc_SK_2 = model.predict([Pos,Pesos_2[:,:,0]])\n",
    "\n",
    "print(Pesos_1[:,:,0])"
   ]
  },
  {
   "cell_type": "code",
   "execution_count": null,
   "metadata": {},
   "outputs": [],
   "source": [
    "SK05 =  pd.read_csv('rotation_alpha05_beta05.csv', header=None)\n",
    "SK1 =  pd.read_csv('rotation_alpha1_beta1.csv', header=None)\n",
    "SK2 =  pd.read_csv('rotation_alpha2_beta2.csv', header=None)\n",
    "print(SK1)\n",
    "\n",
    "def make_graph(_xx,_var,SK):\n",
    "    sk=[]\n",
    "    load=[]\n",
    "    for i in range(0,13):\n",
    "        load.append(int(SK.iloc[i][3]*SK.iloc[i][6]))\n",
    "        sk.append(SK.iloc[i][[8,10,12,14,16,18,20,22,24,26,28,30,32]])\n",
    "    \n",
    "\n",
    "\n",
    "\n",
    "    figure(num=None, figsize=(20, 12), dpi=80, facecolor='w', edgecolor='k')\n",
    "    maxes=[]\n",
    "    mins=[]\n",
    "    for i in range(0,13):\n",
    "        maxes.append(max(max(_var[i]),max(sk[i])))\n",
    "        mins.append(min(min(_var[i]),min(sk[i])))\n",
    "        plt.plot(_xx,_var[i],'r',label=str(load[i])+'N-Rede') \n",
    "        plt.plot(_xx,sk[i],'b',label=str(load[i])+'N-Original')\n",
    "\n",
    "    stepd=(max(maxes)-min(mins))/20.0\n",
    "    plt.yticks(np.arange(min(mins), max(maxes)+stepd ,step=stepd))\n",
    "    plt.xticks(xticks)\n",
    "    plt.grid(True)\n",
    "\n",
    "    plt.legend(loc='center left', bbox_to_anchor=(1, 0.5))\n",
    "    plt.show()\n",
    "    plt.close()\n",
    "    \n",
    "    \n",
    "    np.set_printoptions(precision=3)\n",
    "    \n",
    "    \n",
    "    err = np.sum(np.abs((_var-sk)/sk*100)/12,axis=0)\n",
    "    print(\"errors1\\n \", err)"
   ]
  },
  {
   "cell_type": "code",
   "execution_count": null,
   "metadata": {},
   "outputs": [],
   "source": [
    "make_graph(xticks,Inc_SK_05,SK05)\n"
   ]
  },
  {
   "cell_type": "code",
   "execution_count": null,
   "metadata": {},
   "outputs": [],
   "source": [
    "make_graph(xticks,Inc_SK_1,SK1)"
   ]
  },
  {
   "cell_type": "code",
   "execution_count": null,
   "metadata": {},
   "outputs": [],
   "source": [
    "make_graph(xticks,Inc_SK_2,SK2)"
   ]
  },
  {
   "cell_type": "code",
   "execution_count": null,
   "metadata": {},
   "outputs": [],
   "source": []
  },
  {
   "cell_type": "code",
   "execution_count": null,
   "metadata": {},
   "outputs": [],
   "source": []
  },
  {
   "cell_type": "code",
   "execution_count": null,
   "metadata": {},
   "outputs": [],
   "source": []
  },
  {
   "cell_type": "code",
   "execution_count": null,
   "metadata": {},
   "outputs": [],
   "source": []
  },
  {
   "cell_type": "code",
   "execution_count": null,
   "metadata": {},
   "outputs": [],
   "source": []
  },
  {
   "cell_type": "code",
   "execution_count": null,
   "metadata": {},
   "outputs": [],
   "source": []
  },
  {
   "cell_type": "code",
   "execution_count": null,
   "metadata": {},
   "outputs": [],
   "source": []
  },
  {
   "cell_type": "code",
   "execution_count": null,
   "metadata": {},
   "outputs": [],
   "source": []
  }
 ],
 "metadata": {
  "kernelspec": {
   "display_name": "Python 3",
   "language": "python",
   "name": "python3"
  }
 },
 "nbformat": 4,
 "nbformat_minor": 2
}
